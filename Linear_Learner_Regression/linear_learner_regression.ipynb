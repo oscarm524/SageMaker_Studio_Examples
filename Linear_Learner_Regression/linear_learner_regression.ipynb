{
 "cells": [
  {
   "cell_type": "code",
   "execution_count": 1,
   "metadata": {},
   "outputs": [
    {
     "data": {
      "text/plain": [
       "'s3://oscarm524-mastering-ml-aws/regression/test/test.csv'"
      ]
     },
     "execution_count": 1,
     "metadata": {},
     "output_type": "execute_result"
    }
   ],
   "source": [
    "import boto3\n",
    "import pandas as pd\n",
    "import numpy as np\n",
    "from sklearn.model_selection import train_test_split\n",
    "import sagemaker\n",
    "from sagemaker import image_uris, get_execution_role\n",
    "from sagemaker.session import s3_input\n",
    "from sagemaker.parameter import ContinuousParameter, IntegerParameter, CategoricalParameter\n",
    "from sagemaker.tuner import HyperparameterTuner\n",
    "\n",
    "sess = sagemaker.Session()\n",
    "\n",
    "## Defining the s3 bucket\n",
    "s3 = boto3.resource('s3')\n",
    "bucket_name = 'oscarm524-mastering-ml-aws'\n",
    "bucket = s3.Bucket(bucket_name)\n",
    "prefix = 'regression'\n",
    "\n",
    "## Defining the file to be read from s3 bucket\n",
    "file_key = 'regression/raw_data/housing.csv'\n",
    "\n",
    "bucket_object = bucket.Object(file_key)\n",
    "file_object = bucket_object.get()\n",
    "file_content_stream = file_object.get('Body')\n",
    "\n",
    "## Reading the csv file\n",
    "housing = pd.read_csv(file_content_stream)\n",
    "\n",
    "## Defining inputs and target variable\n",
    "X = housing.drop(['MEDV'], axis = 1)\n",
    "Y = housing['MEDV']\n",
    "\n",
    "## Splitting data into training, validation and testing\n",
    "X_train, X_val, Y_train, Y_val =  train_test_split(X, Y, test_size = 0.3, random_state = 618, shuffle = True)\n",
    "X_val, X_test, Y_val, Y_test = train_test_split(X_val, Y_val, test_size = 0.5, random_state = 620, shuffle = True)\n",
    "\n",
    "## Putting datasets in the right format to be uploaded to s3\n",
    "train = pd.concat([Y_train, X_train], axis = 1)\n",
    "train.to_csv('train.csv', index = False, header = False)\n",
    "\n",
    "validation = pd.concat([Y_val, X_val], axis = 1)\n",
    "validation.to_csv('validation.csv', index = False, header = False)\n",
    "\n",
    "test = pd.concat([Y_test, X_test], axis = 1)\n",
    "test.to_csv('test.csv', index = False, header = False)\n",
    "\n",
    "## Uploading datasets to s3 buckects\n",
    "sess.upload_data(path = 'train.csv', \n",
    "                 bucket = bucket_name,\n",
    "                 key_prefix = 'regression/train')\n",
    "\n",
    "sess.upload_data(path = 'validation.csv', \n",
    "                 bucket = bucket_name,\n",
    "                 key_prefix = 'regression/validation')\n",
    "\n",
    "sess.upload_data(path = 'test.csv', \n",
    "                 bucket = bucket_name,\n",
    "                 key_prefix = 'regression/test')"
   ]
  },
  {
   "cell_type": "code",
   "execution_count": 3,
   "metadata": {},
   "outputs": [
    {
     "data": {
      "text/plain": [
       "'s3://oscarm524-mastering-ml-aws/regression/train'"
      ]
     },
     "execution_count": 3,
     "metadata": {},
     "output_type": "execute_result"
    }
   ],
   "source": [
    "train_data = 's3://{}/{}/train'.format(bucket.name, prefix)\n",
    "validation_data = 's3://{}/{}/validation'.format(bucket.name, prefix)\n",
    "test_data = 's3://{}/{}/test'.format(bucket.name, prefix)\n",
    "output_path = 's3://{}/{}/output'.format(bucket.name, prefix)"
   ]
  },
  {
   "cell_type": "code",
   "execution_count": null,
   "metadata": {},
   "outputs": [],
   "source": [
    "## Getting linear-leaner image\n",
    "container = image_uris.retrieve(region = boto3.Session().region_name, framework = \"linear-learner\")\n",
    "\n",
    "role = get_execution_role()\n",
    "\n",
    "linear = sagemaker.estimator.Estimator(container,\n",
    "                                       role,\n",
    "                                       instance_count = 1,\n",
    "                                       instance_type = 'ml.c4.xlarge',\n",
    "                                       output_path = output_location,\n",
    "                                       sagemaker_session = sess,\n",
    "                                       )\n",
    "\n",
    "linear.set_hyperparameters(feature_dim = 3,\n",
    "                           predictor_type = 'regressor',\n",
    "                           mini_batch_size = 100)"
   ]
  },
  {
   "cell_type": "code",
   "execution_count": null,
   "metadata": {},
   "outputs": [],
   "source": [
    "linear.fit({'train': s3_input(train_data, content_type = 'text/csv'),\n",
    "            'validation': s3_input(validation_data, content_type = 'text/csv')})"
   ]
  },
  {
   "cell_type": "code",
   "execution_count": null,
   "metadata": {},
   "outputs": [],
   "source": [
    "## Applying fitted model\n",
    "linear_learner = linear.transformer(instance_count = 1,\n",
    "                                   instance_type = 'ml.c4.xlarge',\n",
    "                                   output_path = output_location \n",
    "                                   )\n",
    "\n",
    "linear_learner.transform(test_data, content_type = 'text/csv')\n",
    "linear_learner.wait()"
   ]
  }
 ],
 "metadata": {
  "instance_type": "ml.t3.medium",
  "kernelspec": {
   "display_name": "Python 3 (Data Science)",
   "language": "python",
   "name": "python3__SAGEMAKER_INTERNAL__arn:aws:sagemaker:us-east-1:081325390199:image/datascience-1.0"
  },
  "language_info": {
   "codemirror_mode": {
    "name": "ipython",
    "version": 3
   },
   "file_extension": ".py",
   "mimetype": "text/x-python",
   "name": "python",
   "nbconvert_exporter": "python",
   "pygments_lexer": "ipython3",
   "version": "3.7.10"
  }
 },
 "nbformat": 4,
 "nbformat_minor": 4
}
